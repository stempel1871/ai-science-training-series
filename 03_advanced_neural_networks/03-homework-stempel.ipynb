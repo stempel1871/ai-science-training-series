{
 "cells": [
  {
   "cell_type": "markdown",
   "id": "340cfc3d-97ce-406e-827c-c7cd5e88f331",
   "metadata": {},
   "source": [
    "Sam Tempel (Physics PhD Candidate at UIC)\n",
    "\n",
    "March 2024\n",
    "\n",
    "ALCFAITC Homework, Session 3"
   ]
  },
  {
   "cell_type": "markdown",
   "id": "a7a59e56-589f-4b80-820a-7f33688534b0",
   "metadata": {},
   "source": [
    "# Homework 1:\n",
    "\n",
    "In this notebook, we've learned about some basic convolutional networks and trained one on CIFAR-10 images.  It did ... OK.  There is significant overfitting of this model.  There are some ways to address that, but we didn't have time to get into that in this session.\n",
    "\n",
    "Meanwhile, your homework (part 1) for this week is to try to train the model again but with a different architecture.  Change one or more of the following:\n",
    "- The number of convolutions between downsampling\n",
    "- The number of filters in each layer\n",
    "- The initial \"patchify\" layer\n",
    "- Another hyper-parameter of your choosing\n",
    "\n",
    "And compare your final validation accuracy to the accuracy shown here.  Can you beat the validation accuracy shown?\n",
    "\n",
    "For full credit on the homework, you need to show (via text, or make a plot) the training and validation data sets' performance (loss and accuracy) for all the epochs you train.  You also need to explain, in several sentences, what you changed in the network and why you think it makes a difference."
   ]
  },
  {
   "cell_type": "markdown",
   "id": "a569d00b-a5c4-4d54-8ae3-415309e9fa3a",
   "metadata": {},
   "source": [
    "Alright, seems straightforward. First I'll copy/paste some code from the lecture notebook."
   ]
  },
  {
   "cell_type": "code",
   "execution_count": 1,
   "id": "a4c9dd08-2fe7-4c25-8b01-ac2432c50fe5",
   "metadata": {},
   "outputs": [
    {
     "name": "stderr",
     "output_type": "stream",
     "text": [
      "/soft/datascience/conda/2023-10-04/mconda3/lib/python3.10/site-packages/torchvision/datapoints/__init__.py:12: UserWarning: The torchvision.datapoints and torchvision.transforms.v2 namespaces are still Beta. While we do not expect major breaking changes, some APIs may still change according to user feedback. Please submit any feedback you may have in this issue: https://github.com/pytorch/vision/issues/6753, and you can also check out https://github.com/pytorch/vision/issues/7319 to learn more about the APIs that we suspect might involve future changes. You can silence this warning by calling torchvision.disable_beta_transforms_warning().\n",
      "  warnings.warn(_BETA_TRANSFORMS_WARNING)\n",
      "/soft/datascience/conda/2023-10-04/mconda3/lib/python3.10/site-packages/torchvision/transforms/v2/__init__.py:54: UserWarning: The torchvision.datapoints and torchvision.transforms.v2 namespaces are still Beta. While we do not expect major breaking changes, some APIs may still change according to user feedback. Please submit any feedback you may have in this issue: https://github.com/pytorch/vision/issues/6753, and you can also check out https://github.com/pytorch/vision/issues/7319 to learn more about the APIs that we suspect might involve future changes. You can silence this warning by calling torchvision.disable_beta_transforms_warning().\n",
      "  warnings.warn(_BETA_TRANSFORMS_WARNING)\n",
      "/soft/datascience/conda/2023-10-04/mconda3/lib/python3.10/site-packages/torchvision/transforms/v2/_deprecated.py:41: UserWarning: The transform `ToTensor()` is deprecated and will be removed in a future release. Instead, please use `transforms.Compose([transforms.ToImageTensor(), transforms.ConvertImageDtype()])`.\n",
      "  warnings.warn(\n"
     ]
    }
   ],
   "source": [
    "import torch, torchvision\n",
    "from torchvision.transforms import v2\n",
    "\n",
    "training_data = torchvision.datasets.CIFAR10(\n",
    "    root=\"/lus/eagle/projects/datasets/CIFAR-10/\",\n",
    "    train=True,\n",
    "    download=False,\n",
    "    transform=v2.Compose([\n",
    "        v2.ToTensor(),\n",
    "        v2.RandomHorizontalFlip(),\n",
    "        v2.RandomResizedCrop(size=32, scale=[0.85,1.0], antialias=False),\n",
    "        v2.ColorJitter(brightness=0.2, contrast=0.2, saturation=0.2),\n",
    "    ])\n",
    ")\n",
    "\n",
    "test_data = torchvision.datasets.CIFAR10(\n",
    "    root=\"/lus/eagle/projects/datasets/CIFAR-10/\",\n",
    "    train=False,\n",
    "    download=False,\n",
    "    transform=torchvision.transforms.ToTensor()\n",
    ")\n",
    "\n",
    "training_data, validation_data = torch.utils.data.random_split(training_data, [0.8, 0.2], generator=torch.Generator().manual_seed(55))\n",
    "\n",
    "batch_size = 128\n",
    "\n",
    "# The dataloader makes our dataset iterable \n",
    "train_dataloader = torch.utils.data.DataLoader(training_data, \n",
    "    batch_size=batch_size, \n",
    "    pin_memory=True,\n",
    "    shuffle=True, \n",
    "    num_workers=4)\n",
    "val_dataloader = torch.utils.data.DataLoader(validation_data, \n",
    "    batch_size=batch_size, \n",
    "    pin_memory=True,\n",
    "    shuffle=False, \n",
    "    num_workers=4)"
   ]
  },
  {
   "cell_type": "code",
   "execution_count": 2,
   "id": "d7b7f904-9ac0-461d-b0c7-ec84b47eda38",
   "metadata": {},
   "outputs": [],
   "source": [
    "dev = torch.device(\n",
    "    \"cuda\") if torch.cuda.is_available() else torch.device(\"cpu\")\n",
    "\n",
    "\n",
    "def preprocess(x, y):\n",
    "    # CIFAR-10 is *color* images so 3 layers!\n",
    "    return x.view(-1, 3, 32, 32).to(dev), y.to(dev)\n",
    "\n",
    "\n",
    "class WrappedDataLoader:\n",
    "    def __init__(self, dl, func):\n",
    "        self.dl = dl\n",
    "        self.func = func\n",
    "\n",
    "    def __len__(self):\n",
    "        return len(self.dl)\n",
    "\n",
    "    def __iter__(self):\n",
    "        for b in self.dl:\n",
    "            yield (self.func(*b))\n",
    "\n",
    "\n",
    "train_dataloader = WrappedDataLoader(train_dataloader, preprocess)\n",
    "val_dataloader = WrappedDataLoader(val_dataloader, preprocess)"
   ]
  },
  {
   "cell_type": "code",
   "execution_count": 3,
   "id": "c791bee6-e636-4aba-b6ad-0bc51d434bde",
   "metadata": {},
   "outputs": [],
   "source": [
    "from torch import nn\n",
    "\n",
    "\n",
    "class Downsampler(nn.Module):\n",
    "\n",
    "    def __init__(self, in_channels, out_channels, shape, stride=2):\n",
    "        super(Downsampler, self).__init__()\n",
    "\n",
    "        self.norm = nn.LayerNorm([in_channels, *shape])\n",
    "\n",
    "        self.downsample = nn.Conv2d(\n",
    "            in_channels=in_channels, \n",
    "            out_channels=out_channels,\n",
    "            kernel_size = stride,\n",
    "            stride = stride,\n",
    "        )\n",
    "    \n",
    "    def forward(self, inputs):\n",
    "\n",
    "\n",
    "        return self.downsample(self.norm(inputs))\n",
    "        \n",
    "        \n",
    "\n",
    "class ConvNextBlock(nn.Module):\n",
    "    \"\"\"This block of operations is loosely based on this paper:\n",
    "\n",
    "    \"\"\"\n",
    "\n",
    "\n",
    "    def __init__(self, in_channels, shape):\n",
    "        super(ConvNextBlock, self).__init__()\n",
    "\n",
    "        # Depthwise, seperable convolution with a large number of output filters:\n",
    "        self.conv1 = nn.Conv2d(in_channels=in_channels, \n",
    "                                     out_channels=in_channels, \n",
    "                                     groups=in_channels,\n",
    "                                     kernel_size=[7,7],\n",
    "                                     padding='same' )\n",
    "\n",
    "        self.norm = nn.LayerNorm([in_channels, *shape])\n",
    "\n",
    "        # Two more convolutions:\n",
    "        self.conv2 = nn.Conv2d(in_channels=in_channels, \n",
    "                                     out_channels=4*in_channels,\n",
    "                                     kernel_size=1)\n",
    "\n",
    "        self.conv3 = nn.Conv2d(in_channels=4*in_channels, \n",
    "                                     out_channels=in_channels,\n",
    "                                     kernel_size=1\n",
    "                                     )\n",
    "\n",
    "\n",
    "    def forward(self, inputs):\n",
    "        x = self.conv1(inputs)\n",
    "\n",
    "        # The normalization layer:\n",
    "        x = self.norm(x)\n",
    "\n",
    "        x = self.conv2(x)\n",
    "\n",
    "        # The non-linear activation layer:\n",
    "        x = torch.nn.functional.gelu(x)\n",
    "\n",
    "        x = self.conv3(x)\n",
    "\n",
    "        # This makes it a residual network:\n",
    "        return x + inputs\n",
    "    \n",
    "\n",
    "class Classifier(nn.Module):\n",
    "\n",
    "\n",
    "    def __init__(self, n_initial_filters, n_stages, blocks_per_stage):\n",
    "        super(Classifier, self).__init__()\n",
    "\n",
    "        # This is a downsampling convolution that will produce patches of output.\n",
    "\n",
    "        # This is similar to what vision transformers do to tokenize the images.\n",
    "        self.stem = nn.Conv2d(in_channels=3,\n",
    "                                    out_channels=n_initial_filters,\n",
    "                                    kernel_size=1,\n",
    "                                    stride=1)\n",
    "        \n",
    "        current_shape = [32, 32]\n",
    "\n",
    "        self.norm1 = nn.LayerNorm([n_initial_filters,*current_shape])\n",
    "        # self.norm1 = WrappedLayerNorm()\n",
    "\n",
    "        current_n_filters = n_initial_filters\n",
    "        \n",
    "        self.layers = nn.Sequential()\n",
    "        for i, n_blocks in enumerate(range(n_stages)):\n",
    "            # Add a convnext block series:\n",
    "            for _ in range(blocks_per_stage):\n",
    "                self.layers.append(ConvNextBlock(in_channels=current_n_filters, shape=current_shape))\n",
    "            # Add a downsampling layer:\n",
    "            if i != n_stages - 1:\n",
    "                # Skip downsampling if it's the last layer!\n",
    "                self.layers.append(Downsampler(\n",
    "                    in_channels=current_n_filters, \n",
    "                    out_channels=2*current_n_filters,\n",
    "                    shape = current_shape,\n",
    "                    )\n",
    "                )\n",
    "                # Double the number of filters:\n",
    "                current_n_filters = 2*current_n_filters\n",
    "                # Cut the shape in half:\n",
    "                current_shape = [ cs // 2 for cs in current_shape]\n",
    "            \n",
    "\n",
    "\n",
    "        self.head = nn.Sequential(\n",
    "            nn.Flatten(),\n",
    "            nn.LayerNorm(current_n_filters),\n",
    "            nn.Linear(current_n_filters, 10)\n",
    "        )\n",
    "        # self.norm2 = nn.InstanceNorm2d(current_n_filters)\n",
    "        # # This brings it down to one channel / class\n",
    "        # self.bottleneck = nn.Conv2d(in_channels=current_n_filters, out_channels=10, \n",
    "        #                                   kernel_size=1, stride=1)\n",
    "\n",
    "    def forward(self, inputs):\n",
    "\n",
    "        x = self.stem(inputs)\n",
    "        # Apply a normalization after the initial patching:\n",
    "        x = self.norm1(x)\n",
    "\n",
    "        # Apply the main chunk of the network:\n",
    "        x = self.layers(x)\n",
    "\n",
    "        # Normalize and readout:\n",
    "        x = nn.functional.avg_pool2d(x, x.shape[2:])\n",
    "        x = self.head(x)\n",
    "\n",
    "        return x\n",
    "\n",
    "\n",
    "\n",
    "        # x = self.norm2(x)\n",
    "        # x = self.bottleneck(x)\n",
    "\n",
    "        # # Average pooling of the remaining spatial dimensions (and reshape) makes this label-like:\n",
    "        # return nn.functional.avg_pool2d(x, kernel_size=x.shape[-2:]).reshape((-1,10))"
   ]
  },
  {
   "cell_type": "markdown",
   "id": "eeecd978-d0f4-4692-863c-8488fe0a0e6a",
   "metadata": {},
   "source": [
    "Alright, so how am I going to change this architecture? Some testing makes me think the original architecture had too many parameters; simplifying it a bit should help the overfitting and speed up training, hopefully.\n",
    "\n",
    "I will decrease the initial filters from 64 to 32, which should half the filters per layer.\n",
    "\n",
    "I will also reduce stages from 4 to 2, further simplifying the architecture."
   ]
  },
  {
   "cell_type": "code",
   "execution_count": 4,
   "id": "76b2a04b-a7d6-49c5-9dc8-08eb21119838",
   "metadata": {},
   "outputs": [
    {
     "name": "stdout",
     "output_type": "stream",
     "text": [
      "==========================================================================================\n",
      "Layer (type:depth-idx)                   Output Shape              Param #\n",
      "==========================================================================================\n",
      "Classifier                               [128, 10]                 --\n",
      "├─Conv2d: 1-1                            [128, 32, 32, 32]         128\n",
      "├─LayerNorm: 1-2                         [128, 32, 32, 32]         65,536\n",
      "├─Sequential: 1-3                        [128, 64, 16, 16]         --\n",
      "│    └─ConvNextBlock: 2-1                [128, 32, 32, 32]         --\n",
      "│    │    └─Conv2d: 3-1                  [128, 32, 32, 32]         1,600\n",
      "│    │    └─LayerNorm: 3-2               [128, 32, 32, 32]         65,536\n",
      "│    │    └─Conv2d: 3-3                  [128, 128, 32, 32]        4,224\n",
      "│    │    └─Conv2d: 3-4                  [128, 32, 32, 32]         4,128\n",
      "│    └─ConvNextBlock: 2-2                [128, 32, 32, 32]         --\n",
      "│    │    └─Conv2d: 3-5                  [128, 32, 32, 32]         1,600\n",
      "│    │    └─LayerNorm: 3-6               [128, 32, 32, 32]         65,536\n",
      "│    │    └─Conv2d: 3-7                  [128, 128, 32, 32]        4,224\n",
      "│    │    └─Conv2d: 3-8                  [128, 32, 32, 32]         4,128\n",
      "│    └─Downsampler: 2-3                  [128, 64, 16, 16]         --\n",
      "│    │    └─LayerNorm: 3-9               [128, 32, 32, 32]         65,536\n",
      "│    │    └─Conv2d: 3-10                 [128, 64, 16, 16]         8,256\n",
      "│    └─ConvNextBlock: 2-4                [128, 64, 16, 16]         --\n",
      "│    │    └─Conv2d: 3-11                 [128, 64, 16, 16]         3,200\n",
      "│    │    └─LayerNorm: 3-12              [128, 64, 16, 16]         32,768\n",
      "│    │    └─Conv2d: 3-13                 [128, 256, 16, 16]        16,640\n",
      "│    │    └─Conv2d: 3-14                 [128, 64, 16, 16]         16,448\n",
      "│    └─ConvNextBlock: 2-5                [128, 64, 16, 16]         --\n",
      "│    │    └─Conv2d: 3-15                 [128, 64, 16, 16]         3,200\n",
      "│    │    └─LayerNorm: 3-16              [128, 64, 16, 16]         32,768\n",
      "│    │    └─Conv2d: 3-17                 [128, 256, 16, 16]        16,640\n",
      "│    │    └─Conv2d: 3-18                 [128, 64, 16, 16]         16,448\n",
      "├─Sequential: 1-4                        [128, 10]                 --\n",
      "│    └─Flatten: 2-6                      [128, 64]                 --\n",
      "│    └─LayerNorm: 2-7                    [128, 64]                 128\n",
      "│    └─Linear: 2-8                       [128, 10]                 650\n",
      "==========================================================================================\n",
      "Total params: 429,322\n",
      "Trainable params: 429,322\n",
      "Non-trainable params: 0\n",
      "Total mult-adds (G): 5.32\n",
      "==========================================================================================\n",
      "Input size (MB): 1.57\n",
      "Forward/backward pass size (MB): 822.16\n",
      "Params size (MB): 1.72\n",
      "Estimated Total Size (MB): 825.45\n",
      "==========================================================================================\n"
     ]
    }
   ],
   "source": [
    "model = Classifier(32, 2, 2)\n",
    "\n",
    "model.cuda()\n",
    "\n",
    "from torchinfo import summary\n",
    "\n",
    "print(summary(model, input_size=(batch_size, 3, 32, 32)))"
   ]
  },
  {
   "cell_type": "markdown",
   "id": "5dc22943-e2f7-47e5-a528-27ade666a380",
   "metadata": {},
   "source": [
    "That seemed to work. Let's finish bringing over the needed functions."
   ]
  },
  {
   "cell_type": "code",
   "execution_count": 5,
   "id": "79f151dc-6ef7-472b-943d-78227273eeaf",
   "metadata": {},
   "outputs": [],
   "source": [
    "def evaluate(dataloader, model, loss_fn, val_bar):\n",
    "    # Set the model to evaluation mode - some NN pieces behave differently during training\n",
    "    # Unnecessary in this situation but added for best practices\n",
    "    model.eval()\n",
    "    size = len(dataloader)\n",
    "    num_batches = len(dataloader)\n",
    "    loss, correct = 0, 0\n",
    "\n",
    "    # We can save computation and memory by not calculating gradients here - we aren't optimizing \n",
    "    with torch.no_grad():\n",
    "        # loop over all of the batches\n",
    "        for X, y in dataloader:\n",
    "\n",
    "            pred = model(X)\n",
    "            loss += loss_fn(pred, y).item()\n",
    "            # how many are correct in this batch? Tracking for accuracy \n",
    "            correct += (pred.argmax(1) == y).type(torch.float).sum().item()\n",
    "            val_bar.update()\n",
    "            \n",
    "    loss /= num_batches\n",
    "    correct /= (size*batch_size)\n",
    "    \n",
    "    accuracy = 100*correct\n",
    "    return accuracy, loss"
   ]
  },
  {
   "cell_type": "code",
   "execution_count": 6,
   "id": "562aea9c-a132-4f97-b87c-8b82bc8143a4",
   "metadata": {},
   "outputs": [],
   "source": [
    "def train_one_epoch(dataloader, model, loss_fn, optimizer, progress_bar):\n",
    "    model.train()\n",
    "    for batch, (X, y) in enumerate(dataloader):\n",
    "        # forward pass\n",
    "        pred = model(X)\n",
    "        loss = loss_fn(pred, y)\n",
    "        \n",
    "        # backward pass calculates gradients\n",
    "        loss.backward()\n",
    "        \n",
    "        # take one step with these gradients\n",
    "        optimizer.step()\n",
    "        \n",
    "        # resets the gradients \n",
    "        optimizer.zero_grad()      \n",
    "\n",
    "        progress_bar.update()"
   ]
  },
  {
   "cell_type": "code",
   "execution_count": 7,
   "id": "20d7e196-cf8c-40b6-82a0-6175ccc61b34",
   "metadata": {},
   "outputs": [],
   "source": [
    "loss_fn = nn.CrossEntropyLoss()\n",
    "optimizer = torch.optim.AdamW(model.parameters(), lr=0.001, weight_decay=0.01)"
   ]
  },
  {
   "cell_type": "markdown",
   "id": "a63667a8-4875-41e4-864b-4228ada75196",
   "metadata": {},
   "source": [
    "I'm going to make add in an array for graphing accuracy at the end."
   ]
  },
  {
   "cell_type": "code",
   "execution_count": 8,
   "id": "17478cfd-f049-4a0f-9d76-b04c6d67cba1",
   "metadata": {},
   "outputs": [
    {
     "data": {
      "application/vnd.jupyter.widget-view+json": {
       "model_id": "491f1888ef6a434baf88a744f656f2b2",
       "version_major": 2,
       "version_minor": 0
      },
      "text/plain": [
       "Train Epoch 0:   0%|          | 0/313 [00:00<?, ?it/s]"
      ]
     },
     "metadata": {},
     "output_type": "display_data"
    },
    {
     "data": {
      "application/vnd.jupyter.widget-view+json": {
       "model_id": "7d9b6cfa7b9b4c078706518fd9fc39a0",
       "version_major": 2,
       "version_minor": 0
      },
      "text/plain": [
       "Validate (train) Epoch 0:   0%|          | 0/313 [00:00<?, ?it/s]"
      ]
     },
     "metadata": {},
     "output_type": "display_data"
    },
    {
     "name": "stdout",
     "output_type": "stream",
     "text": [
      "Epoch 0: training loss: 1.595, accuracy: 41.496\n"
     ]
    },
    {
     "data": {
      "application/vnd.jupyter.widget-view+json": {
       "model_id": "fdec873ab44c4cedbba81b2d0bb8f0c7",
       "version_major": 2,
       "version_minor": 0
      },
      "text/plain": [
       "Validate Epoch 0:   0%|          | 0/79 [00:00<?, ?it/s]"
      ]
     },
     "metadata": {},
     "output_type": "display_data"
    },
    {
     "name": "stdout",
     "output_type": "stream",
     "text": [
      "Epoch 0: validation loss: 1.588, accuracy: 41.564\n"
     ]
    },
    {
     "data": {
      "application/vnd.jupyter.widget-view+json": {
       "model_id": "3c0d11bf447e4b1f911d0c38e9f03ecc",
       "version_major": 2,
       "version_minor": 0
      },
      "text/plain": [
       "Train Epoch 1:   0%|          | 0/313 [00:00<?, ?it/s]"
      ]
     },
     "metadata": {},
     "output_type": "display_data"
    },
    {
     "data": {
      "application/vnd.jupyter.widget-view+json": {
       "model_id": "1df16fd3db9b40138a593ee64db36e3e",
       "version_major": 2,
       "version_minor": 0
      },
      "text/plain": [
       "Validate (train) Epoch 1:   0%|          | 0/313 [00:00<?, ?it/s]"
      ]
     },
     "metadata": {},
     "output_type": "display_data"
    },
    {
     "name": "stdout",
     "output_type": "stream",
     "text": [
      "Epoch 1: training loss: 1.373, accuracy: 50.517\n"
     ]
    },
    {
     "data": {
      "application/vnd.jupyter.widget-view+json": {
       "model_id": "976fb277348f46cbbed0a5d1467d2a6f",
       "version_major": 2,
       "version_minor": 0
      },
      "text/plain": [
       "Validate Epoch 1:   0%|          | 0/79 [00:00<?, ?it/s]"
      ]
     },
     "metadata": {},
     "output_type": "display_data"
    },
    {
     "name": "stdout",
     "output_type": "stream",
     "text": [
      "Epoch 1: validation loss: 1.380, accuracy: 49.357\n"
     ]
    },
    {
     "data": {
      "application/vnd.jupyter.widget-view+json": {
       "model_id": "c628477a1d27446d8237baa6c90898ca",
       "version_major": 2,
       "version_minor": 0
      },
      "text/plain": [
       "Train Epoch 2:   0%|          | 0/313 [00:00<?, ?it/s]"
      ]
     },
     "metadata": {},
     "output_type": "display_data"
    },
    {
     "data": {
      "application/vnd.jupyter.widget-view+json": {
       "model_id": "c22a996c1fd242808ce80acc575a46f4",
       "version_major": 2,
       "version_minor": 0
      },
      "text/plain": [
       "Validate (train) Epoch 2:   0%|          | 0/313 [00:00<?, ?it/s]"
      ]
     },
     "metadata": {},
     "output_type": "display_data"
    },
    {
     "name": "stdout",
     "output_type": "stream",
     "text": [
      "Epoch 2: training loss: 1.200, accuracy: 57.790\n"
     ]
    },
    {
     "data": {
      "application/vnd.jupyter.widget-view+json": {
       "model_id": "6ba07f3ac2df4dac94abf5a2b0906778",
       "version_major": 2,
       "version_minor": 0
      },
      "text/plain": [
       "Validate Epoch 2:   0%|          | 0/79 [00:00<?, ?it/s]"
      ]
     },
     "metadata": {},
     "output_type": "display_data"
    },
    {
     "name": "stdout",
     "output_type": "stream",
     "text": [
      "Epoch 2: validation loss: 1.211, accuracy: 56.497\n"
     ]
    },
    {
     "data": {
      "application/vnd.jupyter.widget-view+json": {
       "model_id": "6472e20b415c43789bdc16bc101baa70",
       "version_major": 2,
       "version_minor": 0
      },
      "text/plain": [
       "Train Epoch 3:   0%|          | 0/313 [00:00<?, ?it/s]"
      ]
     },
     "metadata": {},
     "output_type": "display_data"
    },
    {
     "data": {
      "application/vnd.jupyter.widget-view+json": {
       "model_id": "4b223a97ed504c95a0d01f5abdd3d665",
       "version_major": 2,
       "version_minor": 0
      },
      "text/plain": [
       "Validate (train) Epoch 3:   0%|          | 0/313 [00:00<?, ?it/s]"
      ]
     },
     "metadata": {},
     "output_type": "display_data"
    },
    {
     "name": "stdout",
     "output_type": "stream",
     "text": [
      "Epoch 3: training loss: 1.086, accuracy: 61.811\n"
     ]
    },
    {
     "data": {
      "application/vnd.jupyter.widget-view+json": {
       "model_id": "5375d5435c384836b8ec31146e0cfe79",
       "version_major": 2,
       "version_minor": 0
      },
      "text/plain": [
       "Validate Epoch 3:   0%|          | 0/79 [00:00<?, ?it/s]"
      ]
     },
     "metadata": {},
     "output_type": "display_data"
    },
    {
     "name": "stdout",
     "output_type": "stream",
     "text": [
      "Epoch 3: validation loss: 1.109, accuracy: 60.314\n"
     ]
    },
    {
     "data": {
      "application/vnd.jupyter.widget-view+json": {
       "model_id": "813935ddcf864d75a1404095890f2215",
       "version_major": 2,
       "version_minor": 0
      },
      "text/plain": [
       "Train Epoch 4:   0%|          | 0/313 [00:00<?, ?it/s]"
      ]
     },
     "metadata": {},
     "output_type": "display_data"
    },
    {
     "data": {
      "application/vnd.jupyter.widget-view+json": {
       "model_id": "49a7606d89084efcadc004abe26bd939",
       "version_major": 2,
       "version_minor": 0
      },
      "text/plain": [
       "Validate (train) Epoch 4:   0%|          | 0/313 [00:00<?, ?it/s]"
      ]
     },
     "metadata": {},
     "output_type": "display_data"
    },
    {
     "name": "stdout",
     "output_type": "stream",
     "text": [
      "Epoch 4: training loss: 0.986, accuracy: 65.266\n"
     ]
    },
    {
     "data": {
      "application/vnd.jupyter.widget-view+json": {
       "model_id": "563db78c228b4d90b6b5eca77b7619d8",
       "version_major": 2,
       "version_minor": 0
      },
      "text/plain": [
       "Validate Epoch 4:   0%|          | 0/79 [00:00<?, ?it/s]"
      ]
     },
     "metadata": {},
     "output_type": "display_data"
    },
    {
     "name": "stdout",
     "output_type": "stream",
     "text": [
      "Epoch 4: validation loss: 1.012, accuracy: 63.608\n"
     ]
    },
    {
     "data": {
      "application/vnd.jupyter.widget-view+json": {
       "model_id": "ded46208a1b044109a49aa6a11fc386f",
       "version_major": 2,
       "version_minor": 0
      },
      "text/plain": [
       "Train Epoch 5:   0%|          | 0/313 [00:00<?, ?it/s]"
      ]
     },
     "metadata": {},
     "output_type": "display_data"
    },
    {
     "data": {
      "application/vnd.jupyter.widget-view+json": {
       "model_id": "018810ed60074369b883e68d1f1af234",
       "version_major": 2,
       "version_minor": 0
      },
      "text/plain": [
       "Validate (train) Epoch 5:   0%|          | 0/313 [00:00<?, ?it/s]"
      ]
     },
     "metadata": {},
     "output_type": "display_data"
    },
    {
     "name": "stdout",
     "output_type": "stream",
     "text": [
      "Epoch 5: training loss: 0.913, accuracy: 67.787\n"
     ]
    },
    {
     "data": {
      "application/vnd.jupyter.widget-view+json": {
       "model_id": "384024bd897e445d97fd66b717a80856",
       "version_major": 2,
       "version_minor": 0
      },
      "text/plain": [
       "Validate Epoch 5:   0%|          | 0/79 [00:00<?, ?it/s]"
      ]
     },
     "metadata": {},
     "output_type": "display_data"
    },
    {
     "name": "stdout",
     "output_type": "stream",
     "text": [
      "Epoch 5: validation loss: 0.961, accuracy: 65.744\n"
     ]
    },
    {
     "data": {
      "application/vnd.jupyter.widget-view+json": {
       "model_id": "407f4d49d27044f8a3d40e53b5bc936e",
       "version_major": 2,
       "version_minor": 0
      },
      "text/plain": [
       "Train Epoch 6:   0%|          | 0/313 [00:00<?, ?it/s]"
      ]
     },
     "metadata": {},
     "output_type": "display_data"
    },
    {
     "data": {
      "application/vnd.jupyter.widget-view+json": {
       "model_id": "9afcfb4d365143f69c63eb93625bd5a9",
       "version_major": 2,
       "version_minor": 0
      },
      "text/plain": [
       "Validate (train) Epoch 6:   0%|          | 0/313 [00:00<?, ?it/s]"
      ]
     },
     "metadata": {},
     "output_type": "display_data"
    },
    {
     "name": "stdout",
     "output_type": "stream",
     "text": [
      "Epoch 6: training loss: 0.841, accuracy: 70.580\n"
     ]
    },
    {
     "data": {
      "application/vnd.jupyter.widget-view+json": {
       "model_id": "c7fbeae066104700878e245ff8f792c5",
       "version_major": 2,
       "version_minor": 0
      },
      "text/plain": [
       "Validate Epoch 6:   0%|          | 0/79 [00:00<?, ?it/s]"
      ]
     },
     "metadata": {},
     "output_type": "display_data"
    },
    {
     "name": "stdout",
     "output_type": "stream",
     "text": [
      "Epoch 6: validation loss: 0.899, accuracy: 67.820\n"
     ]
    },
    {
     "data": {
      "application/vnd.jupyter.widget-view+json": {
       "model_id": "88d9f08132a04c1cbbafb2d5d26483c9",
       "version_major": 2,
       "version_minor": 0
      },
      "text/plain": [
       "Train Epoch 7:   0%|          | 0/313 [00:00<?, ?it/s]"
      ]
     },
     "metadata": {},
     "output_type": "display_data"
    },
    {
     "data": {
      "application/vnd.jupyter.widget-view+json": {
       "model_id": "d74ced57a6d84b4f8a648cf45a9c4f46",
       "version_major": 2,
       "version_minor": 0
      },
      "text/plain": [
       "Validate (train) Epoch 7:   0%|          | 0/313 [00:00<?, ?it/s]"
      ]
     },
     "metadata": {},
     "output_type": "display_data"
    },
    {
     "name": "stdout",
     "output_type": "stream",
     "text": [
      "Epoch 7: training loss: 0.805, accuracy: 72.040\n"
     ]
    },
    {
     "data": {
      "application/vnd.jupyter.widget-view+json": {
       "model_id": "f2a0949397404c74a6e0ed17b28388e6",
       "version_major": 2,
       "version_minor": 0
      },
      "text/plain": [
       "Validate Epoch 7:   0%|          | 0/79 [00:00<?, ?it/s]"
      ]
     },
     "metadata": {},
     "output_type": "display_data"
    },
    {
     "name": "stdout",
     "output_type": "stream",
     "text": [
      "Epoch 7: validation loss: 0.868, accuracy: 69.254\n"
     ]
    },
    {
     "data": {
      "application/vnd.jupyter.widget-view+json": {
       "model_id": "b149a29f27d9443cb46b9bf9170b0d8b",
       "version_major": 2,
       "version_minor": 0
      },
      "text/plain": [
       "Train Epoch 8:   0%|          | 0/313 [00:00<?, ?it/s]"
      ]
     },
     "metadata": {},
     "output_type": "display_data"
    },
    {
     "data": {
      "application/vnd.jupyter.widget-view+json": {
       "model_id": "0431e95a393f4185b7d635932685e29e",
       "version_major": 2,
       "version_minor": 0
      },
      "text/plain": [
       "Validate (train) Epoch 8:   0%|          | 0/313 [00:00<?, ?it/s]"
      ]
     },
     "metadata": {},
     "output_type": "display_data"
    },
    {
     "name": "stdout",
     "output_type": "stream",
     "text": [
      "Epoch 8: training loss: 0.738, accuracy: 74.321\n"
     ]
    },
    {
     "data": {
      "application/vnd.jupyter.widget-view+json": {
       "model_id": "0b3c3057372c4f6aabc84322144d979e",
       "version_major": 2,
       "version_minor": 0
      },
      "text/plain": [
       "Validate Epoch 8:   0%|          | 0/79 [00:00<?, ?it/s]"
      ]
     },
     "metadata": {},
     "output_type": "display_data"
    },
    {
     "name": "stdout",
     "output_type": "stream",
     "text": [
      "Epoch 8: validation loss: 0.802, accuracy: 71.657\n"
     ]
    },
    {
     "data": {
      "application/vnd.jupyter.widget-view+json": {
       "model_id": "6deb387d52a14c389b802c52bcd3f5a6",
       "version_major": 2,
       "version_minor": 0
      },
      "text/plain": [
       "Train Epoch 9:   0%|          | 0/313 [00:00<?, ?it/s]"
      ]
     },
     "metadata": {},
     "output_type": "display_data"
    },
    {
     "data": {
      "application/vnd.jupyter.widget-view+json": {
       "model_id": "9f2c6a001e204f3ba633a33b7c3cc7bb",
       "version_major": 2,
       "version_minor": 0
      },
      "text/plain": [
       "Validate (train) Epoch 9:   0%|          | 0/313 [00:00<?, ?it/s]"
      ]
     },
     "metadata": {},
     "output_type": "display_data"
    },
    {
     "name": "stdout",
     "output_type": "stream",
     "text": [
      "Epoch 9: training loss: 0.710, accuracy: 75.342\n"
     ]
    },
    {
     "data": {
      "application/vnd.jupyter.widget-view+json": {
       "model_id": "13b0640b017b4114977dcbed67ccc0ce",
       "version_major": 2,
       "version_minor": 0
      },
      "text/plain": [
       "Validate Epoch 9:   0%|          | 0/79 [00:00<?, ?it/s]"
      ]
     },
     "metadata": {},
     "output_type": "display_data"
    },
    {
     "name": "stdout",
     "output_type": "stream",
     "text": [
      "Epoch 9: validation loss: 0.791, accuracy: 71.954\n"
     ]
    },
    {
     "data": {
      "application/vnd.jupyter.widget-view+json": {
       "model_id": "abf8dcdafd8b45ea8b6d563685379537",
       "version_major": 2,
       "version_minor": 0
      },
      "text/plain": [
       "Train Epoch 10:   0%|          | 0/313 [00:00<?, ?it/s]"
      ]
     },
     "metadata": {},
     "output_type": "display_data"
    },
    {
     "data": {
      "application/vnd.jupyter.widget-view+json": {
       "model_id": "7b0f2acf5d484476a50dde7f990d1cf6",
       "version_major": 2,
       "version_minor": 0
      },
      "text/plain": [
       "Validate (train) Epoch 10:   0%|          | 0/313 [00:00<?, ?it/s]"
      ]
     },
     "metadata": {},
     "output_type": "display_data"
    },
    {
     "name": "stdout",
     "output_type": "stream",
     "text": [
      "Epoch 10: training loss: 0.701, accuracy: 75.437\n"
     ]
    },
    {
     "data": {
      "application/vnd.jupyter.widget-view+json": {
       "model_id": "1a275b0695a74f1a843f78f538bc917b",
       "version_major": 2,
       "version_minor": 0
      },
      "text/plain": [
       "Validate Epoch 10:   0%|          | 0/79 [00:00<?, ?it/s]"
      ]
     },
     "metadata": {},
     "output_type": "display_data"
    },
    {
     "name": "stdout",
     "output_type": "stream",
     "text": [
      "Epoch 10: validation loss: 0.795, accuracy: 71.806\n"
     ]
    },
    {
     "data": {
      "application/vnd.jupyter.widget-view+json": {
       "model_id": "5a34108b53104faca8b4d3a975894a9d",
       "version_major": 2,
       "version_minor": 0
      },
      "text/plain": [
       "Train Epoch 11:   0%|          | 0/313 [00:00<?, ?it/s]"
      ]
     },
     "metadata": {},
     "output_type": "display_data"
    },
    {
     "data": {
      "application/vnd.jupyter.widget-view+json": {
       "model_id": "a9d132dd13114d3db8e4f608f71185f5",
       "version_major": 2,
       "version_minor": 0
      },
      "text/plain": [
       "Validate (train) Epoch 11:   0%|          | 0/313 [00:00<?, ?it/s]"
      ]
     },
     "metadata": {},
     "output_type": "display_data"
    },
    {
     "name": "stdout",
     "output_type": "stream",
     "text": [
      "Epoch 11: training loss: 0.644, accuracy: 77.484\n"
     ]
    },
    {
     "data": {
      "application/vnd.jupyter.widget-view+json": {
       "model_id": "65bf040107f34b4e84a9145c326dd969",
       "version_major": 2,
       "version_minor": 0
      },
      "text/plain": [
       "Validate Epoch 11:   0%|          | 0/79 [00:00<?, ?it/s]"
      ]
     },
     "metadata": {},
     "output_type": "display_data"
    },
    {
     "name": "stdout",
     "output_type": "stream",
     "text": [
      "Epoch 11: validation loss: 0.726, accuracy: 74.496\n"
     ]
    },
    {
     "data": {
      "application/vnd.jupyter.widget-view+json": {
       "model_id": "77d9ebab993b4ac1a220a09f2248ac2c",
       "version_major": 2,
       "version_minor": 0
      },
      "text/plain": [
       "Train Epoch 12:   0%|          | 0/313 [00:00<?, ?it/s]"
      ]
     },
     "metadata": {},
     "output_type": "display_data"
    },
    {
     "data": {
      "application/vnd.jupyter.widget-view+json": {
       "model_id": "8e70cc362e66456da8a15fbcd39723a0",
       "version_major": 2,
       "version_minor": 0
      },
      "text/plain": [
       "Validate (train) Epoch 12:   0%|          | 0/313 [00:00<?, ?it/s]"
      ]
     },
     "metadata": {},
     "output_type": "display_data"
    },
    {
     "name": "stdout",
     "output_type": "stream",
     "text": [
      "Epoch 12: training loss: 0.604, accuracy: 79.006\n"
     ]
    },
    {
     "data": {
      "application/vnd.jupyter.widget-view+json": {
       "model_id": "3ade9b50f2224fbc99ead9853519edf3",
       "version_major": 2,
       "version_minor": 0
      },
      "text/plain": [
       "Validate Epoch 12:   0%|          | 0/79 [00:00<?, ?it/s]"
      ]
     },
     "metadata": {},
     "output_type": "display_data"
    },
    {
     "name": "stdout",
     "output_type": "stream",
     "text": [
      "Epoch 12: validation loss: 0.707, accuracy: 74.515\n"
     ]
    },
    {
     "data": {
      "application/vnd.jupyter.widget-view+json": {
       "model_id": "2a83a9e28edd4888b71069eacc8dbb9b",
       "version_major": 2,
       "version_minor": 0
      },
      "text/plain": [
       "Train Epoch 13:   0%|          | 0/313 [00:00<?, ?it/s]"
      ]
     },
     "metadata": {},
     "output_type": "display_data"
    },
    {
     "data": {
      "application/vnd.jupyter.widget-view+json": {
       "model_id": "859bbb55cfdf41b497d7dcaebde85303",
       "version_major": 2,
       "version_minor": 0
      },
      "text/plain": [
       "Validate (train) Epoch 13:   0%|          | 0/313 [00:00<?, ?it/s]"
      ]
     },
     "metadata": {},
     "output_type": "display_data"
    },
    {
     "name": "stdout",
     "output_type": "stream",
     "text": [
      "Epoch 13: training loss: 0.579, accuracy: 79.857\n"
     ]
    },
    {
     "data": {
      "application/vnd.jupyter.widget-view+json": {
       "model_id": "a5c17f9120294ca39d8dd438a70415f1",
       "version_major": 2,
       "version_minor": 0
      },
      "text/plain": [
       "Validate Epoch 13:   0%|          | 0/79 [00:00<?, ?it/s]"
      ]
     },
     "metadata": {},
     "output_type": "display_data"
    },
    {
     "name": "stdout",
     "output_type": "stream",
     "text": [
      "Epoch 13: validation loss: 0.695, accuracy: 75.129\n"
     ]
    },
    {
     "data": {
      "application/vnd.jupyter.widget-view+json": {
       "model_id": "ed8823da526c48959cf06c7ebc1a51cb",
       "version_major": 2,
       "version_minor": 0
      },
      "text/plain": [
       "Train Epoch 14:   0%|          | 0/313 [00:00<?, ?it/s]"
      ]
     },
     "metadata": {},
     "output_type": "display_data"
    },
    {
     "data": {
      "application/vnd.jupyter.widget-view+json": {
       "model_id": "6095fd2115084720a1cc0cb8803a353f",
       "version_major": 2,
       "version_minor": 0
      },
      "text/plain": [
       "Validate (train) Epoch 14:   0%|          | 0/313 [00:00<?, ?it/s]"
      ]
     },
     "metadata": {},
     "output_type": "display_data"
    },
    {
     "name": "stdout",
     "output_type": "stream",
     "text": [
      "Epoch 14: training loss: 0.526, accuracy: 81.762\n"
     ]
    },
    {
     "data": {
      "application/vnd.jupyter.widget-view+json": {
       "model_id": "9488e2df38be48daad174b2209c34242",
       "version_major": 2,
       "version_minor": 0
      },
      "text/plain": [
       "Validate Epoch 14:   0%|          | 0/79 [00:00<?, ?it/s]"
      ]
     },
     "metadata": {},
     "output_type": "display_data"
    },
    {
     "name": "stdout",
     "output_type": "stream",
     "text": [
      "Epoch 14: validation loss: 0.654, accuracy: 76.493\n"
     ]
    },
    {
     "data": {
      "application/vnd.jupyter.widget-view+json": {
       "model_id": "dde48e0631f4403991b506f385a16eaf",
       "version_major": 2,
       "version_minor": 0
      },
      "text/plain": [
       "Train Epoch 15:   0%|          | 0/313 [00:00<?, ?it/s]"
      ]
     },
     "metadata": {},
     "output_type": "display_data"
    },
    {
     "data": {
      "application/vnd.jupyter.widget-view+json": {
       "model_id": "eed0373e0b994faf9097433f77c482a1",
       "version_major": 2,
       "version_minor": 0
      },
      "text/plain": [
       "Validate (train) Epoch 15:   0%|          | 0/313 [00:00<?, ?it/s]"
      ]
     },
     "metadata": {},
     "output_type": "display_data"
    },
    {
     "name": "stdout",
     "output_type": "stream",
     "text": [
      "Epoch 15: training loss: 0.539, accuracy: 81.075\n"
     ]
    },
    {
     "data": {
      "application/vnd.jupyter.widget-view+json": {
       "model_id": "be7130393f0b4ef185a264d3b37a77bb",
       "version_major": 2,
       "version_minor": 0
      },
      "text/plain": [
       "Validate Epoch 15:   0%|          | 0/79 [00:00<?, ?it/s]"
      ]
     },
     "metadata": {},
     "output_type": "display_data"
    },
    {
     "name": "stdout",
     "output_type": "stream",
     "text": [
      "Epoch 15: validation loss: 0.687, accuracy: 75.732\n"
     ]
    },
    {
     "data": {
      "application/vnd.jupyter.widget-view+json": {
       "model_id": "c1730f93be0142a4940b997fad93a42a",
       "version_major": 2,
       "version_minor": 0
      },
      "text/plain": [
       "Train Epoch 16:   0%|          | 0/313 [00:00<?, ?it/s]"
      ]
     },
     "metadata": {},
     "output_type": "display_data"
    },
    {
     "data": {
      "application/vnd.jupyter.widget-view+json": {
       "model_id": "bb1d1a980f014a97ab7c79cad22e2f79",
       "version_major": 2,
       "version_minor": 0
      },
      "text/plain": [
       "Validate (train) Epoch 16:   0%|          | 0/313 [00:00<?, ?it/s]"
      ]
     },
     "metadata": {},
     "output_type": "display_data"
    },
    {
     "name": "stdout",
     "output_type": "stream",
     "text": [
      "Epoch 16: training loss: 0.489, accuracy: 83.017\n"
     ]
    },
    {
     "data": {
      "application/vnd.jupyter.widget-view+json": {
       "model_id": "1b16a4cf03654975880f1a3084441edc",
       "version_major": 2,
       "version_minor": 0
      },
      "text/plain": [
       "Validate Epoch 16:   0%|          | 0/79 [00:00<?, ?it/s]"
      ]
     },
     "metadata": {},
     "output_type": "display_data"
    },
    {
     "name": "stdout",
     "output_type": "stream",
     "text": [
      "Epoch 16: validation loss: 0.651, accuracy: 76.948\n"
     ]
    },
    {
     "data": {
      "application/vnd.jupyter.widget-view+json": {
       "model_id": "8ec935ca135f4435beb08a29e93ba452",
       "version_major": 2,
       "version_minor": 0
      },
      "text/plain": [
       "Train Epoch 17:   0%|          | 0/313 [00:00<?, ?it/s]"
      ]
     },
     "metadata": {},
     "output_type": "display_data"
    },
    {
     "data": {
      "application/vnd.jupyter.widget-view+json": {
       "model_id": "9f5f1a4b9d944f009f8aeb249d91a5bd",
       "version_major": 2,
       "version_minor": 0
      },
      "text/plain": [
       "Validate (train) Epoch 17:   0%|          | 0/313 [00:00<?, ?it/s]"
      ]
     },
     "metadata": {},
     "output_type": "display_data"
    },
    {
     "name": "stdout",
     "output_type": "stream",
     "text": [
      "Epoch 17: training loss: 0.473, accuracy: 83.694\n"
     ]
    },
    {
     "data": {
      "application/vnd.jupyter.widget-view+json": {
       "model_id": "3c66614085544b588c20f56f2b135cbb",
       "version_major": 2,
       "version_minor": 0
      },
      "text/plain": [
       "Validate Epoch 17:   0%|          | 0/79 [00:00<?, ?it/s]"
      ]
     },
     "metadata": {},
     "output_type": "display_data"
    },
    {
     "name": "stdout",
     "output_type": "stream",
     "text": [
      "Epoch 17: validation loss: 0.643, accuracy: 76.800\n"
     ]
    },
    {
     "data": {
      "application/vnd.jupyter.widget-view+json": {
       "model_id": "063c3796b2e646589cccac537442d1c5",
       "version_major": 2,
       "version_minor": 0
      },
      "text/plain": [
       "Train Epoch 18:   0%|          | 0/313 [00:00<?, ?it/s]"
      ]
     },
     "metadata": {},
     "output_type": "display_data"
    },
    {
     "data": {
      "application/vnd.jupyter.widget-view+json": {
       "model_id": "d4bb00324b7045c4adb774730928ebd1",
       "version_major": 2,
       "version_minor": 0
      },
      "text/plain": [
       "Validate (train) Epoch 18:   0%|          | 0/313 [00:00<?, ?it/s]"
      ]
     },
     "metadata": {},
     "output_type": "display_data"
    },
    {
     "name": "stdout",
     "output_type": "stream",
     "text": [
      "Epoch 18: training loss: 0.447, accuracy: 84.133\n"
     ]
    },
    {
     "data": {
      "application/vnd.jupyter.widget-view+json": {
       "model_id": "481670c6f6e848588fce8d151921589e",
       "version_major": 2,
       "version_minor": 0
      },
      "text/plain": [
       "Validate Epoch 18:   0%|          | 0/79 [00:00<?, ?it/s]"
      ]
     },
     "metadata": {},
     "output_type": "display_data"
    },
    {
     "name": "stdout",
     "output_type": "stream",
     "text": [
      "Epoch 18: validation loss: 0.621, accuracy: 77.898\n"
     ]
    },
    {
     "data": {
      "application/vnd.jupyter.widget-view+json": {
       "model_id": "53e25bce06ff454fbd55e5acd3db3f10",
       "version_major": 2,
       "version_minor": 0
      },
      "text/plain": [
       "Train Epoch 19:   0%|          | 0/313 [00:00<?, ?it/s]"
      ]
     },
     "metadata": {},
     "output_type": "display_data"
    },
    {
     "data": {
      "application/vnd.jupyter.widget-view+json": {
       "model_id": "a7a68e84b8e1405ab26189ec90becadd",
       "version_major": 2,
       "version_minor": 0
      },
      "text/plain": [
       "Validate (train) Epoch 19:   0%|          | 0/313 [00:00<?, ?it/s]"
      ]
     },
     "metadata": {},
     "output_type": "display_data"
    },
    {
     "name": "stdout",
     "output_type": "stream",
     "text": [
      "Epoch 19: training loss: 0.474, accuracy: 83.364\n"
     ]
    },
    {
     "data": {
      "application/vnd.jupyter.widget-view+json": {
       "model_id": "61115325fd3645d08ae584f7cdab5376",
       "version_major": 2,
       "version_minor": 0
      },
      "text/plain": [
       "Validate Epoch 19:   0%|          | 0/79 [00:00<?, ?it/s]"
      ]
     },
     "metadata": {},
     "output_type": "display_data"
    },
    {
     "name": "stdout",
     "output_type": "stream",
     "text": [
      "Epoch 19: validation loss: 0.660, accuracy: 76.790\n"
     ]
    },
    {
     "data": {
      "application/vnd.jupyter.widget-view+json": {
       "model_id": "890a658c0b624395a596c51395dc3d62",
       "version_major": 2,
       "version_minor": 0
      },
      "text/plain": [
       "Train Epoch 20:   0%|          | 0/313 [00:00<?, ?it/s]"
      ]
     },
     "metadata": {},
     "output_type": "display_data"
    },
    {
     "data": {
      "application/vnd.jupyter.widget-view+json": {
       "model_id": "cec8f538d8484d47a186ce326ae338d1",
       "version_major": 2,
       "version_minor": 0
      },
      "text/plain": [
       "Validate (train) Epoch 20:   0%|          | 0/313 [00:00<?, ?it/s]"
      ]
     },
     "metadata": {},
     "output_type": "display_data"
    },
    {
     "name": "stdout",
     "output_type": "stream",
     "text": [
      "Epoch 20: training loss: 0.468, accuracy: 83.409\n"
     ]
    },
    {
     "data": {
      "application/vnd.jupyter.widget-view+json": {
       "model_id": "92b0838eeda448f98376f163642b8604",
       "version_major": 2,
       "version_minor": 0
      },
      "text/plain": [
       "Validate Epoch 20:   0%|          | 0/79 [00:00<?, ?it/s]"
      ]
     },
     "metadata": {},
     "output_type": "display_data"
    },
    {
     "name": "stdout",
     "output_type": "stream",
     "text": [
      "Epoch 20: validation loss: 0.643, accuracy: 77.106\n"
     ]
    },
    {
     "data": {
      "application/vnd.jupyter.widget-view+json": {
       "model_id": "0dd8ce4c77104a6fb8b0069235e1419e",
       "version_major": 2,
       "version_minor": 0
      },
      "text/plain": [
       "Train Epoch 21:   0%|          | 0/313 [00:00<?, ?it/s]"
      ]
     },
     "metadata": {},
     "output_type": "display_data"
    },
    {
     "data": {
      "application/vnd.jupyter.widget-view+json": {
       "model_id": "91e45596388349fd87dc2b7bb9f502be",
       "version_major": 2,
       "version_minor": 0
      },
      "text/plain": [
       "Validate (train) Epoch 21:   0%|          | 0/313 [00:00<?, ?it/s]"
      ]
     },
     "metadata": {},
     "output_type": "display_data"
    },
    {
     "name": "stdout",
     "output_type": "stream",
     "text": [
      "Epoch 21: training loss: 0.415, accuracy: 85.333\n"
     ]
    },
    {
     "data": {
      "application/vnd.jupyter.widget-view+json": {
       "model_id": "8f2ec87d2fc84b7d84f9371466d6a88e",
       "version_major": 2,
       "version_minor": 0
      },
      "text/plain": [
       "Validate Epoch 21:   0%|          | 0/79 [00:00<?, ?it/s]"
      ]
     },
     "metadata": {},
     "output_type": "display_data"
    },
    {
     "name": "stdout",
     "output_type": "stream",
     "text": [
      "Epoch 21: validation loss: 0.605, accuracy: 78.560\n"
     ]
    },
    {
     "data": {
      "application/vnd.jupyter.widget-view+json": {
       "model_id": "f5784fe3f72e459aaf96fe1d845f79aa",
       "version_major": 2,
       "version_minor": 0
      },
      "text/plain": [
       "Train Epoch 22:   0%|          | 0/313 [00:00<?, ?it/s]"
      ]
     },
     "metadata": {},
     "output_type": "display_data"
    },
    {
     "data": {
      "application/vnd.jupyter.widget-view+json": {
       "model_id": "e7fd6b91ad4043ee85953cd3c0a2305b",
       "version_major": 2,
       "version_minor": 0
      },
      "text/plain": [
       "Validate (train) Epoch 22:   0%|          | 0/313 [00:00<?, ?it/s]"
      ]
     },
     "metadata": {},
     "output_type": "display_data"
    },
    {
     "name": "stdout",
     "output_type": "stream",
     "text": [
      "Epoch 22: training loss: 0.388, accuracy: 86.437\n"
     ]
    },
    {
     "data": {
      "application/vnd.jupyter.widget-view+json": {
       "model_id": "5884bfe635b4433baf752fc6555319b9",
       "version_major": 2,
       "version_minor": 0
      },
      "text/plain": [
       "Validate Epoch 22:   0%|          | 0/79 [00:00<?, ?it/s]"
      ]
     },
     "metadata": {},
     "output_type": "display_data"
    },
    {
     "name": "stdout",
     "output_type": "stream",
     "text": [
      "Epoch 22: validation loss: 0.594, accuracy: 78.451\n"
     ]
    },
    {
     "data": {
      "application/vnd.jupyter.widget-view+json": {
       "model_id": "7e915d722a084d7197b70ba1950a2d32",
       "version_major": 2,
       "version_minor": 0
      },
      "text/plain": [
       "Train Epoch 23:   0%|          | 0/313 [00:00<?, ?it/s]"
      ]
     },
     "metadata": {},
     "output_type": "display_data"
    },
    {
     "data": {
      "application/vnd.jupyter.widget-view+json": {
       "model_id": "e81f43096690418cadf5e8c459701996",
       "version_major": 2,
       "version_minor": 0
      },
      "text/plain": [
       "Validate (train) Epoch 23:   0%|          | 0/313 [00:00<?, ?it/s]"
      ]
     },
     "metadata": {},
     "output_type": "display_data"
    },
    {
     "name": "stdout",
     "output_type": "stream",
     "text": [
      "Epoch 23: training loss: 0.386, accuracy: 86.337\n"
     ]
    },
    {
     "data": {
      "application/vnd.jupyter.widget-view+json": {
       "model_id": "148695b9bf5b4f09845e5cc7607b4c33",
       "version_major": 2,
       "version_minor": 0
      },
      "text/plain": [
       "Validate Epoch 23:   0%|          | 0/79 [00:00<?, ?it/s]"
      ]
     },
     "metadata": {},
     "output_type": "display_data"
    },
    {
     "name": "stdout",
     "output_type": "stream",
     "text": [
      "Epoch 23: validation loss: 0.591, accuracy: 78.837\n"
     ]
    },
    {
     "data": {
      "application/vnd.jupyter.widget-view+json": {
       "model_id": "21ec5c7357d14b14bd11b2a74a368fc3",
       "version_major": 2,
       "version_minor": 0
      },
      "text/plain": [
       "Train Epoch 24:   0%|          | 0/313 [00:00<?, ?it/s]"
      ]
     },
     "metadata": {},
     "output_type": "display_data"
    },
    {
     "data": {
      "application/vnd.jupyter.widget-view+json": {
       "model_id": "b808d405ceb0450092208794d328e0f5",
       "version_major": 2,
       "version_minor": 0
      },
      "text/plain": [
       "Validate (train) Epoch 24:   0%|          | 0/313 [00:00<?, ?it/s]"
      ]
     },
     "metadata": {},
     "output_type": "display_data"
    },
    {
     "name": "stdout",
     "output_type": "stream",
     "text": [
      "Epoch 24: training loss: 0.372, accuracy: 86.911\n"
     ]
    },
    {
     "data": {
      "application/vnd.jupyter.widget-view+json": {
       "model_id": "545331bd08354ca383f5c8f5c36cc90a",
       "version_major": 2,
       "version_minor": 0
      },
      "text/plain": [
       "Validate Epoch 24:   0%|          | 0/79 [00:00<?, ?it/s]"
      ]
     },
     "metadata": {},
     "output_type": "display_data"
    },
    {
     "name": "stdout",
     "output_type": "stream",
     "text": [
      "Epoch 24: validation loss: 0.592, accuracy: 79.252\n"
     ]
    }
   ],
   "source": [
    "from tqdm.notebook import tqdm\n",
    "import numpy as np\n",
    "\n",
    "\n",
    "val_errors = []\n",
    "epochs = 25\n",
    "\n",
    "for j in range(epochs):\n",
    "    with tqdm(total=len(train_dataloader), position=0, leave=True, desc=f\"Train Epoch {j}\") as train_bar:\n",
    "        train_one_epoch(train_dataloader, model, loss_fn, optimizer, train_bar)\n",
    "    \n",
    "    # checking on the training loss and accuracy once per epoch\n",
    "        \n",
    "    with tqdm(total=len(train_dataloader), position=0, leave=True, desc=f\"Validate (train) Epoch {j}\") as train_eval:\n",
    "        acc, loss = evaluate(train_dataloader, model, loss_fn, train_eval)\n",
    "\n",
    "        print(f\"Epoch {j}: training loss: {loss:.3f}, accuracy: {acc:.3f}\")\n",
    "    with tqdm(total=len(val_dataloader), position=0, leave=True, desc=f\"Validate Epoch {j}\") as val_bar:\n",
    "        \n",
    "        acc_val, loss_val = evaluate(val_dataloader, model, loss_fn, val_bar)\n",
    "        val_errors.append(acc_val)\n",
    "        print(f\"Epoch {j}: validation loss: {loss_val:.3f}, accuracy: {acc_val:.3f}\")\n",
    "    "
   ]
  },
  {
   "cell_type": "code",
   "execution_count": 10,
   "id": "fcbc0efa-cf96-4576-9f90-a2a30cb10070",
   "metadata": {},
   "outputs": [
    {
     "data": {
      "image/png": "[encoded data removed]",
      "text/plain": [
       "<Figure size 1440x480 with 1 Axes>"
      ]
     },
     "metadata": {},
     "output_type": "display_data"
    }
   ],
   "source": [
    "import matplotlib.pyplot as plt\n",
    "\n",
    "# setting up the plot\n",
    "fig,ax = plt.subplots(1,1,figsize=(18,6),dpi=80)\n",
    "ax.set_xlabel('training epoch')\n",
    "ax.set_ylabel('validation accuracy (percent)')\n",
    "\n",
    "x = np.arange(0,len(val_errors))\n",
    "y = val_errors\n",
    "ax.plot(x, y, 'o-')\n",
    "\n",
    "plt.show()"
   ]
  },
  {
   "cell_type": "markdown",
   "id": "d2b4ed54-354c-48a0-ac32-dd655996d195",
   "metadata": {},
   "source": [
    "It seems the overfitting is a bit better than the original model, but accuracy hasn't been dramatically improved. \n",
    "\n",
    "I think I am going to set it down here. More fiddling with the number of convolutions between downsampling or maybe even the learning rate could improve this more."
   ]
  }
 ],
 "metadata": {
  "kernelspec": {
   "display_name": "datascience/conda-2023-10-04",
   "language": "python",
   "name": "conda-2023-10-03"
  },
  "language_info": {
   "codemirror_mode": {
    "name": "ipython",
    "version": 3
   },
   "file_extension": ".py",
   "mimetype": "text/x-python",
   "name": "python",
   "nbconvert_exporter": "python",
   "pygments_lexer": "ipython3",
   "version": "3.10.12"
  }
 },
 "nbformat": 4,
 "nbformat_minor": 5
}
